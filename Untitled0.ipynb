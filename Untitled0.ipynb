{
 "metadata": {
  "name": ""
 },
 "nbformat": 3,
 "nbformat_minor": 0,
 "worksheets": [
  {
   "cells": [
    {
     "cell_type": "code",
     "collapsed": false,
     "input": [
      "import xlrd\n",
      "import numpy as np\n",
      "\n",
      "wb = xlrd.open_workbook(\"Data/nanonose.xls\")\n",
      "sheet0 = wb.sheet_by_index(0)\n",
      "row_index = sheet0.row_values(0)\n",
      "row_len = len(row_index)\n",
      "col_index = sheet0.col_values(0)\n",
      "col_len = len(col_index)\n",
      "\n",
      "nanonose = np.zeros((90,8))\n",
      "for r in range(2,col_len):\n",
      "    nanonose[r-2] = (sheet0.row_values(r)[3:])\n",
      "\n",
      "Y = np.subtract(nanonose,nanonose.mean(0))\n",
      "#print(nanonose.shape, nanonose[0], nanonose_mean_normalized[0])    \n",
      "\n",
      "U ,s, V = np.linalg.svd(Y)\n",
      "print(U.shape, s.shape, V.shape)\n",
      "s_S = np.square(s) # S for Suqared\n",
      "s_SS = np.sum(s_S) # SS Sum of Squared\n",
      "s_sum = np.empty(s.shape)\n",
      "s_sum.fill(s_SS)\n",
      "p_m = s_S/s_SS\n",
      "print(p_m[0]+p_m[1]+p_m[2])\n"
     ],
     "language": "python",
     "metadata": {},
     "outputs": [
      {
       "output_type": "stream",
       "stream": "stdout",
       "text": [
        "((90, 90), (8,), (8, 8))\n",
        "0.927448538152\n"
       ]
      }
     ],
     "prompt_number": 137
    },
    {
     "cell_type": "code",
     "collapsed": false,
     "input": [
      "#print(np.multiply(Y,U[0]))\n",
      "print(U)"
     ],
     "language": "python",
     "metadata": {},
     "outputs": [
      {
       "output_type": "stream",
       "stream": "stdout",
       "text": [
        "[[ 0.00327367 -0.25131066 -0.36066607 ...,  0.0894323   0.09293048\n",
        "   0.08313362]\n",
        " [-0.00522139 -0.24373052 -0.37134463 ..., -0.03634701 -0.03586218\n",
        "  -0.03786941]\n",
        " [-0.00272225 -0.24328097 -0.35345504 ...,  0.05582982  0.04059781\n",
        "   0.0723674 ]\n",
        " ..., \n",
        " [-0.06821882  0.03377563  0.02164814 ...,  0.97844058 -0.01709536\n",
        "  -0.02553412]\n",
        " [-0.06814937  0.03335553  0.02208319 ..., -0.01694629  0.98575382\n",
        "  -0.01925533]\n",
        " [-0.0676363   0.03349838  0.02336183 ..., -0.02576311 -0.01961065\n",
        "   0.96861762]]\n"
       ]
      }
     ],
     "prompt_number": 142
    },
    {
     "cell_type": "code",
     "collapsed": false,
     "input": [],
     "language": "python",
     "metadata": {},
     "outputs": [
      {
       "metadata": {},
       "output_type": "pyout",
       "prompt_number": 127,
       "text": [
        "0.993421886"
       ]
      }
     ],
     "prompt_number": 127
    },
    {
     "cell_type": "code",
     "collapsed": false,
     "input": [],
     "language": "python",
     "metadata": {},
     "outputs": []
    }
   ],
   "metadata": {}
  }
 ]
}